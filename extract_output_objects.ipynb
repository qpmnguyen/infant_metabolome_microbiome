{
 "cells": [
  {
   "cell_type": "code",
   "execution_count": 5,
   "metadata": {},
   "outputs": [],
   "source": [
    "library(phyloseq)\n",
    "spear_6_weeks <- readRDS(file = \"../results/output/analyses/correlation/6W_tar_spearman.rds\")\n",
    "spear_12_months <- readRDS(file = \"../results/output/analyses/correlation/12M_tar_spearman.rds\")\n",
    "scca_6_weeks <- readRDS(file = \"../results/output/analyses/correlation/6W_tar_scca.rds\")\n",
    "scca_12_months <- readRDS(file = \"../results/output/analyses/correlation/12M_tar_spearman.rds\")"
   ]
  },
  {
   "cell_type": "code",
   "execution_count": 7,
   "metadata": {},
   "outputs": [
    {
     "name": "stdout",
     "output_type": "stream",
     "text": [
      "List of 3\n",
      " $ cor_mat: num [1:43, 1:36] -0.1312 -0.1036 -0.0192 -0.1235 -0.1438 ...\n",
      "  ..- attr(*, \"dimnames\")=List of 2\n",
      "  .. ..$ : chr [1:43] \"SV50\" \"SV56\" \"SV25\" \"SV65\" ...\n",
      "  .. ..$ : chr [1:36] \"Acetate\" \"Alanine\" \"Asparagine\" \"Aspartate\" ...\n",
      " $ p_mat  : num [1:43, 1:36] 0.275 0.419 0.922 0.314 0.22 ...\n",
      " $ tax_tab:Formal class 'taxonomyTable' [package \"phyloseq\"] with 1 slot\n",
      "  .. ..@ .Data: chr [1:43, 1:6] \"Bacteria\" \"Bacteria\" \"Bacteria\" \"Bacteria\" ...\n",
      "  .. .. ..- attr(*, \"dimnames\")=List of 2\n",
      "  .. .. .. ..$ : chr [1:43] \"SV50\" \"SV56\" \"SV25\" \"SV65\" ...\n",
      "  .. .. .. ..$ : chr [1:6] \"Kingdom\" \"Phylum\" \"Class\" \"Order\" ...\n",
      "NULL\n"
     ]
    }
   ],
   "source": [
    "print(str(spear_6_weeks))"
   ]
  },
  {
   "cell_type": "code",
   "execution_count": null,
   "metadata": {},
   "outputs": [],
   "source": []
  }
 ],
 "metadata": {
  "kernelspec": {
   "display_name": "R",
   "language": "R",
   "name": "ir"
  },
  "language_info": {
   "codemirror_mode": "r",
   "file_extension": ".r",
   "mimetype": "text/x-r-source",
   "name": "R",
   "pygments_lexer": "r",
   "version": "3.6.2"
  }
 },
 "nbformat": 4,
 "nbformat_minor": 4
}
